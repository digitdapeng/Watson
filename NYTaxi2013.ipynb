{
    "cells": [
        {
            "cell_type": "code",
            "execution_count": 1,
            "metadata": {},
            "outputs": [],
            "source": "import org.apache.spark.ml.clustering.KMeans\nimport org.apache.spark.ml.linalg.Vector\nimport org.apache.spark.ml.linalg.Vectors\nimport org.apache.spark.ml.feature.VectorAssembler"
        },
        {
            "cell_type": "code",
            "execution_count": 2,
            "metadata": {},
            "outputs": [
                {
                    "name": "stdout",
                    "output_type": "stream",
                    "text": "+--------------------+--------------------+------------------+---------+----------------+---------------+-------------+-----------+-----+-------+----------+------------+---------+------------+------------+---------+------------------+-----------------+-----------------+---------+\n|     pickup_datetime|    dropoff_datetime|Store_and_fwd_flag|rate_code|Dropoff_latitude|Passenger_count|Trip_distance|Fare_amount|Extra|MTA_tax|Tip_amount|Tolls_amount|Ehail_fee|Total_amount|Payment_type|Trip_type|  Pickup_longitude|  Pickup_latitude|Dropoff_longitude|vendor_id|\n+--------------------+--------------------+------------------+---------+----------------+---------------+-------------+-----------+-----+-------+----------+------------+---------+------------+------------+---------+------------------+-----------------+-----------------+---------+\n|09/23/2013 10:52:...|09/23/2013 10:52:...|                 N|        1|             0.0|              1|          0.0|        1.8|  0.0|    0.0|      0.25|         0.0|     null|        2.05|           1|     null|               0.0|              0.0|              0.0|        2|\n|11/09/2013 12:55:...|11/09/2013 12:55:...|                 N|        1|             0.0|              1|          0.0|        0.0|  0.0|    0.0|       0.0|         0.0|     null|         0.0|           2|     null|-73.92957305908203|40.75436019897461|              0.0|        1|\n|09/17/2013 09:45:...|09/17/2013 09:52:...|                 N|        4|             0.0|              1|          0.0|        8.5|  0.0|    0.5|       0.0|         0.0|     null|         9.0|           2|     null|               0.0|              0.0|              0.0|        2|\n|10/02/2013 11:17:...|10/02/2013 11:22:...|                 N|        1|             0.0|              1|          0.0|        2.8|  0.0|    0.5|       0.0|         0.0|     null|         3.3|           2|        1|               0.0|              0.0|              0.0|        2|\n|10/02/2013 11:17:...|10/02/2013 11:22:...|                 N|        1|             0.0|              1|          0.0|        2.8|  0.0|    0.5|       0.0|         0.0|     null|         3.3|           2|        1|               0.0|              0.0|              0.0|        2|\n+--------------------+--------------------+------------------+---------+----------------+---------------+-------------+-----------+-----+-------+----------+------------+---------+------------+------------+---------+------------------+-----------------+-----------------+---------+\nonly showing top 5 rows\n\n"
                },
                {
                    "data": {
                        "text/plain": "configurationName = os_313da24b83ca4964bc8975300fe3d14c_configs\ncos = com.ibm.ibmos2spark.CloudObjectStorage@846d1807\nspark = org.apache.spark.sql.SparkSession@c236be80\ntaxifile = [pickup_datetime: string, dropoff_datetime: string ... 18 more fields]\n"
                    },
                    "metadata": {},
                    "output_type": "display_data"
                },
                {
                    "data": {
                        "text/plain": "getCredentials: ()scala.collection.mutable.HashMap[String,String]\n"
                    },
                    "metadata": {},
                    "output_type": "display_data"
                },
                {
                    "data": {
                        "text/plain": "[pickup_datetime: string, dropoff_datetime: string ... 18 more fields]"
                    },
                    "execution_count": 2,
                    "metadata": {},
                    "output_type": "execute_result"
                }
            ],
            "source": "// The code was removed by Watson Studio for sharing."
        },
        {
            "cell_type": "code",
            "execution_count": 3,
            "metadata": {},
            "outputs": [
                {
                    "data": {
                        "text/plain": "taxifence = [Dropoff_latitude: double, Dropoff_longitude: double]\n"
                    },
                    "metadata": {},
                    "output_type": "display_data"
                },
                {
                    "data": {
                        "text/plain": "589025"
                    },
                    "execution_count": 3,
                    "metadata": {},
                    "output_type": "execute_result"
                }
            ],
            "source": "taxifile.createOrReplaceTempView(\"taxifile\")\nval taxifence = spark.sql(\"\"\"select Dropoff_latitude,Dropoff_longitude from taxifile where\nDropoff_latitude > 40.70 and\nDropoff_latitude < 40.86 and \nDropoff_longitude > -74.02 and \nDropoff_longitude < -73.93\"\"\")\ntaxifence.count"
        },
        {
            "cell_type": "code",
            "execution_count": 4,
            "metadata": {},
            "outputs": [
                {
                    "data": {
                        "text/plain": "assembler = vecAssembler_8d4c89070e1e\ntaxivector = [Dropoff_latitude: double, Dropoff_longitude: double ... 1 more field]\ntaxifeat = [features: vector]\n"
                    },
                    "metadata": {},
                    "output_type": "display_data"
                },
                {
                    "data": {
                        "text/plain": "[features: vector]"
                    },
                    "execution_count": 4,
                    "metadata": {},
                    "output_type": "execute_result"
                }
            ],
            "source": "val assembler = (new VectorAssembler()\n.setInputCols(Array(\"Dropoff_latitude\", \"Dropoff_longitude\"))\n.setOutputCol(\"features\"))\nval taxivector = assembler.transform(taxifence)\nval taxifeat = taxivector.drop(\"Dropoff_latitude\",\"Dropoff_longitude\")"
        },
        {
            "cell_type": "code",
            "execution_count": 5,
            "metadata": {},
            "outputs": [
                {
                    "name": "stdout",
                    "output_type": "stream",
                    "text": "Cluster Centers: \n[40.742663910460365,-73.97265744602562]\n[40.80704424947192,-73.95028115556234]\n"
                },
                {
                    "data": {
                        "text/plain": "kmeans = kmeans_02251e1d8747\nmodel = kmeans_02251e1d8747\n"
                    },
                    "metadata": {},
                    "output_type": "display_data"
                },
                {
                    "data": {
                        "text/plain": "kmeans_02251e1d8747"
                    },
                    "execution_count": 5,
                    "metadata": {},
                    "output_type": "execute_result"
                }
            ],
            "source": "val kmeans = new KMeans().setK(2).setSeed(1L)\nval model = kmeans.fit(taxifeat)\nprintln(\"Cluster Centers: \")\nmodel.clusterCenters.foreach(println)"
        },
        {
            "cell_type": "code",
            "execution_count": null,
            "metadata": {},
            "outputs": [],
            "source": ""
        }
    ],
    "metadata": {
        "kernelspec": {
            "display_name": "Scala 2.11 with Spark",
            "language": "scala",
            "name": "scala"
        },
        "language_info": {
            "codemirror_mode": "text/x-scala",
            "file_extension": ".scala",
            "mimetype": "text/x-scala",
            "name": "scala",
            "pygments_lexer": "scala",
            "version": "2.11.12"
        }
    },
    "nbformat": 4,
    "nbformat_minor": 1
}